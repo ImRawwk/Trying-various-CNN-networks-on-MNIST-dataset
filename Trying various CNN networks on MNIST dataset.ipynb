{
  "nbformat": 4,
  "nbformat_minor": 0,
  "metadata": {
    "colab": {
      "name": "Assignment 13 Various CNN architechture on MNIST Dataset",
      "provenance": [],
      "collapsed_sections": []
    },
    "kernelspec": {
      "name": "python3",
      "display_name": "Python 3"
    },
    "accelerator": "GPU"
  },
  "cells": [
    {
      "cell_type": "code",
      "metadata": {
        "id": "MCx7LkymvXXk",
        "colab_type": "code",
        "colab": {
          "base_uri": "https://localhost:8080/",
          "height": 79
        },
        "outputId": "c6c11ae8-6a01-477d-fdb8-004a02ff4fb2"
      },
      "source": [
        "#Importing Essential libraries & packages \n",
        "from __future__ import print_function\n",
        "import keras\n",
        "from keras.datasets import mnist\n",
        "from keras.models import Sequential\n",
        "from keras.layers.normalization import BatchNormalization\n",
        "from keras.layers import Dense, Dropout, Flatten\n",
        "from keras.layers import Conv2D, MaxPooling2D\n",
        "from keras import backend as K\n"
      ],
      "execution_count": 2,
      "outputs": [
        {
          "output_type": "stream",
          "text": [
            "Using TensorFlow backend.\n"
          ],
          "name": "stderr"
        },
        {
          "output_type": "display_data",
          "data": {
            "text/html": [
              "<p style=\"color: red;\">\n",
              "The default version of TensorFlow in Colab will soon switch to TensorFlow 2.x.<br>\n",
              "We recommend you <a href=\"https://www.tensorflow.org/guide/migrate\" target=\"_blank\">upgrade</a> now \n",
              "or ensure your notebook will continue to use TensorFlow 1.x via the <code>%tensorflow_version 1.x</code> magic:\n",
              "<a href=\"https://colab.research.google.com/notebooks/tensorflow_version.ipynb\" target=\"_blank\">more info</a>.</p>\n"
            ],
            "text/plain": [
              "<IPython.core.display.HTML object>"
            ]
          },
          "metadata": {
            "tags": []
          }
        }
      ]
    },
    {
      "cell_type": "code",
      "metadata": {
        "id": "B_0wI5uCviZt",
        "colab_type": "code",
        "colab": {}
      },
      "source": [
        "#Defining Batch size & Input size \n",
        "\n",
        "batch_size = 128\n",
        "num_classes = 10\n",
        "epochs = 15\n",
        "\n",
        "# input image dimensions\n",
        "img_rows, img_cols = 28, 28"
      ],
      "execution_count": 0,
      "outputs": []
    },
    {
      "cell_type": "code",
      "metadata": {
        "id": "NFA00ESDyWdf",
        "colab_type": "code",
        "colab": {
          "base_uri": "https://localhost:8080/",
          "height": 50
        },
        "outputId": "5074e911-ea58-41f9-d03c-c4971d62a7ee"
      },
      "source": [
        "# the data, split between train and test sets\n",
        "(x_train, y_train), (x_test, y_test) = mnist.load_data()"
      ],
      "execution_count": 4,
      "outputs": [
        {
          "output_type": "stream",
          "text": [
            "Downloading data from https://s3.amazonaws.com/img-datasets/mnist.npz\n",
            "11493376/11490434 [==============================] - 2s 0us/step\n"
          ],
          "name": "stdout"
        }
      ]
    },
    {
      "cell_type": "code",
      "metadata": {
        "id": "C8QAOP7Syl_v",
        "colab_type": "code",
        "colab": {}
      },
      "source": [
        "if K.image_data_format() == 'channels_first':\n",
        "    x_train = x_train.reshape(x_train.shape[0], 1, img_rows, img_cols)\n",
        "    x_test = x_test.reshape(x_test.shape[0], 1, img_rows, img_cols)\n",
        "    input_shape = (1, img_rows, img_cols)\n",
        "else:\n",
        "    x_train = x_train.reshape(x_train.shape[0], img_rows, img_cols, 1)\n",
        "    x_test = x_test.reshape(x_test.shape[0], img_rows, img_cols, 1)\n",
        "    input_shape = (img_rows, img_cols, 1)"
      ],
      "execution_count": 0,
      "outputs": []
    },
    {
      "cell_type": "code",
      "metadata": {
        "id": "NRkANtoUymFx",
        "colab_type": "code",
        "outputId": "83665814-46f1-4e01-d21d-7fece6c19040",
        "colab": {
          "base_uri": "https://localhost:8080/",
          "height": 67
        }
      },
      "source": [
        "# Converting Train & Test Data to Float type & Normalizing the it\n",
        "x_train = x_train.astype('float32')\n",
        "x_test = x_test.astype('float32')\n",
        "x_train /= 255\n",
        "x_test /= 255\n",
        "print('x_train shape:', x_train.shape)\n",
        "print(x_train.shape[0], 'train samples')\n",
        "print(x_test.shape[0], 'test samples')"
      ],
      "execution_count": 6,
      "outputs": [
        {
          "output_type": "stream",
          "text": [
            "x_train shape: (60000, 28, 28, 1)\n",
            "60000 train samples\n",
            "10000 test samples\n"
          ],
          "name": "stdout"
        }
      ]
    },
    {
      "cell_type": "code",
      "metadata": {
        "id": "FCw44bVtymI3",
        "colab_type": "code",
        "colab": {}
      },
      "source": [
        "# convert class vectors to binary class matrices\n",
        "y_train = keras.utils.to_categorical(y_train, num_classes)\n",
        "y_test = keras.utils.to_categorical(y_test, num_classes)"
      ],
      "execution_count": 0,
      "outputs": []
    },
    {
      "cell_type": "code",
      "metadata": {
        "id": "k3tbhsOVymLq",
        "colab_type": "code",
        "colab": {}
      },
      "source": [
        "#Defining a Funtion to print the Train & Validation loss after each epoch \n",
        "%matplotlib notebook\n",
        "import matplotlib.pyplot as plt\n",
        "import numpy as np\n",
        "import time\n",
        "# https://gist.github.com/greydanus/f6eee59eaf1d90fcb3b534a25362cea4\n",
        "# https://stackoverflow.com/a/14434334\n",
        "# this function is used to update the plots for each epoch and error\n",
        "def plt_dynamic(x, vy, ty, ax, colors=['b']):\n",
        "    ax.plot(x, vy, 'b', label=\"Validation Loss\")\n",
        "    ax.plot(x, ty, 'r', label=\"Train Loss\")\n",
        "    plt.legend()\n",
        "    plt.grid()\n",
        "    fig.canvas.draw()"
      ],
      "execution_count": 0,
      "outputs": []
    },
    {
      "cell_type": "markdown",
      "metadata": {
        "id": "0-uiDMNBtD5u",
        "colab_type": "text"
      },
      "source": [
        "## Model 1 - CNN with 2 convolutional layers & kernel size of (3x3)"
      ]
    },
    {
      "cell_type": "code",
      "metadata": {
        "id": "H9EU0e8yzFOm",
        "colab_type": "code",
        "outputId": "60df5053-0e65-4d69-b679-0b1f185bdcc6",
        "colab": {
          "base_uri": "https://localhost:8080/",
          "height": 571
        }
      },
      "source": [
        "# Credits: https://github.com/keras-team/keras/blob/master/examples/mnist_cnn.py\n",
        "\n",
        "# Initializing the model & adding First layer \n",
        "model_one = Sequential()\n",
        "model_one.add(Conv2D(32, kernel_size=(3, 3),\n",
        "                 activation='relu', padding='same', \n",
        "                 input_shape=input_shape))\n",
        "\n",
        "#Adding second layer \n",
        "model_one.add(Conv2D(64, (3, 3), activation='relu', padding='same'))\n",
        "model_one.add(MaxPooling2D(pool_size=(2, 2)))\n",
        "model_one.add(BatchNormalization())\n",
        "model_one.add(Dropout(0.25))\n",
        "model_one.add(Flatten())\n",
        "\n",
        "model_one.add(Dense(128, activation='relu'))\n",
        "model_one.add(BatchNormalization())\n",
        "model_one.add(Dropout(0.30))\n",
        "model_one.add(Dense(num_classes, activation='softmax'))\n",
        "\n",
        "model_one.compile(loss='categorical_crossentropy',\n",
        "              optimizer='adam',\n",
        "              metrics=['accuracy'])\n",
        "\n",
        "history_one = model_one.fit(x_train, y_train,\n",
        "              batch_size=batch_size,\n",
        "              epochs=epochs,\n",
        "              verbose=1,\n",
        "              validation_data=(x_test, y_test))\n",
        "\n",
        "score_one = model_one.evaluate(x_test, y_test, verbose=0)\n",
        "print('Test loss:', score_one[0])\n",
        "print('Test accuracy:', score_one[1])"
      ],
      "execution_count": 12,
      "outputs": [
        {
          "output_type": "stream",
          "text": [
            "Train on 60000 samples, validate on 10000 samples\n",
            "Epoch 1/15\n",
            "60000/60000 [==============================] - 12s 205us/step - loss: 0.1262 - acc: 0.9626 - val_loss: 0.0461 - val_acc: 0.9855\n",
            "Epoch 2/15\n",
            "60000/60000 [==============================] - 11s 191us/step - loss: 0.0491 - acc: 0.9854 - val_loss: 0.0414 - val_acc: 0.9867\n",
            "Epoch 3/15\n",
            "60000/60000 [==============================] - 11s 190us/step - loss: 0.0347 - acc: 0.9890 - val_loss: 0.0374 - val_acc: 0.9885\n",
            "Epoch 4/15\n",
            "60000/60000 [==============================] - 11s 191us/step - loss: 0.0257 - acc: 0.9919 - val_loss: 0.0444 - val_acc: 0.9861\n",
            "Epoch 5/15\n",
            "60000/60000 [==============================] - 11s 191us/step - loss: 0.0207 - acc: 0.9932 - val_loss: 0.0346 - val_acc: 0.9895\n",
            "Epoch 6/15\n",
            "60000/60000 [==============================] - 11s 190us/step - loss: 0.0161 - acc: 0.9950 - val_loss: 0.0347 - val_acc: 0.9904\n",
            "Epoch 7/15\n",
            "60000/60000 [==============================] - 11s 191us/step - loss: 0.0140 - acc: 0.9953 - val_loss: 0.0348 - val_acc: 0.9904\n",
            "Epoch 8/15\n",
            "60000/60000 [==============================] - 11s 191us/step - loss: 0.0153 - acc: 0.9950 - val_loss: 0.0341 - val_acc: 0.9896\n",
            "Epoch 9/15\n",
            "60000/60000 [==============================] - 11s 191us/step - loss: 0.0118 - acc: 0.9959 - val_loss: 0.0351 - val_acc: 0.9900\n",
            "Epoch 10/15\n",
            "60000/60000 [==============================] - 11s 190us/step - loss: 0.0095 - acc: 0.9970 - val_loss: 0.0316 - val_acc: 0.9914\n",
            "Epoch 11/15\n",
            "60000/60000 [==============================] - 11s 190us/step - loss: 0.0086 - acc: 0.9973 - val_loss: 0.0327 - val_acc: 0.9905\n",
            "Epoch 12/15\n",
            "60000/60000 [==============================] - 11s 192us/step - loss: 0.0094 - acc: 0.9969 - val_loss: 0.0300 - val_acc: 0.9903\n",
            "Epoch 13/15\n",
            "60000/60000 [==============================] - 11s 190us/step - loss: 0.0066 - acc: 0.9976 - val_loss: 0.0313 - val_acc: 0.9912\n",
            "Epoch 14/15\n",
            "60000/60000 [==============================] - 11s 192us/step - loss: 0.0070 - acc: 0.9978 - val_loss: 0.0309 - val_acc: 0.9913\n",
            "Epoch 15/15\n",
            "60000/60000 [==============================] - 11s 190us/step - loss: 0.0070 - acc: 0.9975 - val_loss: 0.0324 - val_acc: 0.9907\n",
            "Test loss: 0.03244820148625913\n",
            "Test accuracy: 0.9907\n"
          ],
          "name": "stdout"
        }
      ]
    },
    {
      "cell_type": "code",
      "metadata": {
        "id": "D_Rya6QkymOw",
        "colab_type": "code",
        "outputId": "4d07dd2a-86a0-4916-eb90-cf27dff4ee6b",
        "colab": {
          "base_uri": "https://localhost:8080/",
          "height": 279
        }
      },
      "source": [
        "%matplotlib inline\n",
        "fig,ax = plt.subplots(1,1)\n",
        "ax.set_xlabel('epoch') ; ax.set_ylabel('Categorical Crossentropy Loss')\n",
        "# list of epoch numbers\n",
        "x = list(range(1,epochs+1))\n",
        "# print(history.history.keys())\n",
        "# dict_keys(['val_loss', 'val_acc', 'loss', 'acc'])\n",
        "# history = model_drop.fit(X_train, Y_train, batch_size=batch_size, epochs=nb_epoch, verbose=1, validation_data=(X_test, Y_test))\n",
        "# we will get val_loss and val_acc only when you pass the paramter validation_data\n",
        "# val_loss : validation loss\n",
        "# val_acc : validation accuracy\n",
        "# loss : training loss\n",
        "# acc : train accuracy\n",
        "# for each key in histrory.histrory we will have a list of length equal to number of epochs\n",
        "vy = history_one.history['val_loss']\n",
        "ty = history_one.history['loss']\n",
        "plt_dynamic(x, vy, ty, ax)"
      ],
      "execution_count": 13,
      "outputs": [
        {
          "output_type": "display_data",
          "data": {
            "image/png": "[encoded data removed]",
            "text/plain": [
              "<Figure size 432x288 with 1 Axes>"
            ]
          },
          "metadata": {
            "tags": []
          }
        }
      ]
    },
    {
      "cell_type": "markdown",
      "metadata": {
        "id": "iL5y4zYhuowR",
        "colab_type": "text"
      },
      "source": [
        "## Model 2 - CNN with 3 convolutional layers & kernel size of (4x4)"
      ]
    },
    {
      "cell_type": "code",
      "metadata": {
        "id": "WlLEkSSXymR0",
        "colab_type": "code",
        "outputId": "a273c096-5310-42e8-c9f2-856ea7cfe2b5",
        "colab": {
          "base_uri": "https://localhost:8080/",
          "height": 571
        }
      },
      "source": [
        "# Credits: https://github.com/keras-team/keras/blob/master/examples/mnist_cnn.py\n",
        "\n",
        "# Initializing the model & adding First layer \n",
        "model_two = Sequential()\n",
        "#Adding First layer\n",
        "model_two.add(Conv2D(32, kernel_size=(4, 4),\n",
        "                 activation='relu', padding ='same',\n",
        "                 input_shape=input_shape))\n",
        "\n",
        "#Adding second layer \n",
        "model_two.add(Conv2D(64, (4, 4), activation='relu', padding='same'))\n",
        "model_two.add(MaxPooling2D(pool_size=(3, 3)))\n",
        "model_two.add(BatchNormalization())\n",
        "model_two.add(Dropout(0.25))\n",
        "\n",
        "#Adding third layer \n",
        "model_two.add(Conv2D(128, (4, 4), activation='relu', padding='same'))\n",
        "model_two.add(MaxPooling2D(pool_size=(3, 3)))\n",
        "model_two.add(BatchNormalization())\n",
        "model_two.add(Dropout(0.25))\n",
        "model_two.add(Flatten())\n",
        "\n",
        "\n",
        "#Dense layer & Output layer\n",
        "model_two.add(Dense(256, activation='relu'))\n",
        "model_two.add(BatchNormalization())\n",
        "model_two.add(Dropout(0.25))\n",
        "model_two.add(Dense(num_classes, activation='softmax'))\n",
        "\n",
        "model_two.compile(loss='categorical_crossentropy',\n",
        "              optimizer='adam',\n",
        "              metrics=['accuracy'])\n",
        "\n",
        "history_two = model_two.fit(x_train, y_train,\n",
        "              batch_size=batch_size,\n",
        "              epochs=epochs,\n",
        "              verbose=1,\n",
        "              validation_data=(x_test, y_test))\n",
        "\n",
        "score_two = model_two.evaluate(x_test, y_test, verbose=0)\n",
        "print('Test loss:', score_two[0])\n",
        "print('Test accuracy:', score_two[1])"
      ],
      "execution_count": 19,
      "outputs": [
        {
          "output_type": "stream",
          "text": [
            "Train on 60000 samples, validate on 10000 samples\n",
            "Epoch 1/15\n",
            "60000/60000 [==============================] - 16s 270us/step - loss: 0.1293 - acc: 0.9591 - val_loss: 0.0353 - val_acc: 0.9876\n",
            "Epoch 2/15\n",
            "60000/60000 [==============================] - 14s 237us/step - loss: 0.0407 - acc: 0.9873 - val_loss: 0.0348 - val_acc: 0.9889\n",
            "Epoch 3/15\n",
            "60000/60000 [==============================] - 14s 236us/step - loss: 0.0311 - acc: 0.9904 - val_loss: 0.0310 - val_acc: 0.9904\n",
            "Epoch 4/15\n",
            "60000/60000 [==============================] - 14s 235us/step - loss: 0.0254 - acc: 0.9921 - val_loss: 0.0255 - val_acc: 0.9916\n",
            "Epoch 5/15\n",
            "60000/60000 [==============================] - 14s 236us/step - loss: 0.0239 - acc: 0.9923 - val_loss: 0.0283 - val_acc: 0.9914\n",
            "Epoch 6/15\n",
            "60000/60000 [==============================] - 14s 241us/step - loss: 0.0190 - acc: 0.9941 - val_loss: 0.0201 - val_acc: 0.9942\n",
            "Epoch 7/15\n",
            "60000/60000 [==============================] - 14s 236us/step - loss: 0.0189 - acc: 0.9940 - val_loss: 0.0220 - val_acc: 0.9937\n",
            "Epoch 8/15\n",
            "60000/60000 [==============================] - 14s 235us/step - loss: 0.0175 - acc: 0.9944 - val_loss: 0.0191 - val_acc: 0.9944\n",
            "Epoch 9/15\n",
            "60000/60000 [==============================] - 14s 235us/step - loss: 0.0144 - acc: 0.9951 - val_loss: 0.0202 - val_acc: 0.9938\n",
            "Epoch 10/15\n",
            "60000/60000 [==============================] - 14s 235us/step - loss: 0.0140 - acc: 0.9958 - val_loss: 0.0218 - val_acc: 0.9937\n",
            "Epoch 11/15\n",
            "60000/60000 [==============================] - 14s 235us/step - loss: 0.0128 - acc: 0.9961 - val_loss: 0.0221 - val_acc: 0.9939\n",
            "Epoch 12/15\n",
            "60000/60000 [==============================] - 14s 238us/step - loss: 0.0132 - acc: 0.9953 - val_loss: 0.0199 - val_acc: 0.9940\n",
            "Epoch 13/15\n",
            "60000/60000 [==============================] - 14s 235us/step - loss: 0.0113 - acc: 0.9961 - val_loss: 0.0229 - val_acc: 0.9938\n",
            "Epoch 14/15\n",
            "60000/60000 [==============================] - 14s 235us/step - loss: 0.0119 - acc: 0.9961 - val_loss: 0.0208 - val_acc: 0.9938\n",
            "Epoch 15/15\n",
            "60000/60000 [==============================] - 14s 235us/step - loss: 0.0089 - acc: 0.9972 - val_loss: 0.0180 - val_acc: 0.9951\n",
            "Test loss: 0.018042983895980795\n",
            "Test accuracy: 0.9951\n"
          ],
          "name": "stdout"
        }
      ]
    },
    {
      "cell_type": "code",
      "metadata": {
        "id": "5ybhzXBhymU3",
        "colab_type": "code",
        "colab": {
          "base_uri": "https://localhost:8080/",
          "height": 279
        },
        "outputId": "b7a81c1d-ca1e-409c-e572-15c5355da675"
      },
      "source": [
        "%matplotlib inline\n",
        "fig,ax = plt.subplots(1,1)\n",
        "ax.set_xlabel('epoch') ; ax.set_ylabel('Categorical Crossentropy Loss')\n",
        "# list of epoch numbers\n",
        "x = list(range(1,epochs+1))\n",
        "# print(history.history.keys())\n",
        "# dict_keys(['val_loss', 'val_acc', 'loss', 'acc'])\n",
        "# history = model_drop.fit(X_train, Y_train, batch_size=batch_size, epochs=nb_epoch, verbose=1, validation_data=(X_test, Y_test))\n",
        "# we will get val_loss and val_acc only when you pass the paramter validation_data\n",
        "# val_loss : validation loss\n",
        "# val_acc : validation accuracy\n",
        "# loss : training loss\n",
        "# acc : train accuracy\n",
        "# for each key in histrory.histrory we will have a list of length equal to number of epochs\n",
        "vy = history_two.history['val_loss']\n",
        "ty = history_two.history['loss']\n",
        "plt_dynamic(x, vy, ty, ax)"
      ],
      "execution_count": 20,
      "outputs": [
        {
          "output_type": "display_data",
          "data": {
            "image/png": "[encoded data removed]",
            "text/plain": [
              "<Figure size 432x288 with 1 Axes>"
            ]
          },
          "metadata": {
            "tags": []
          }
        }
      ]
    },
    {
      "cell_type": "markdown",
      "metadata": {
        "id": "X8SUhTTZZaqP",
        "colab_type": "text"
      },
      "source": [
        "## Model 3 - CNN with 5 convolutional layers & kernel size of (5x5)"
      ]
    },
    {
      "cell_type": "code",
      "metadata": {
        "id": "s8i5YOb47ghm",
        "colab_type": "code",
        "colab": {
          "base_uri": "https://localhost:8080/",
          "height": 571
        },
        "outputId": "6a5eff08-ae7b-4b30-beff-d43f3ef934fc"
      },
      "source": [
        "# Credits: https://github.com/keras-team/keras/blob/master/examples/mnist_cnn.py\n",
        "\n",
        "# Initializing the model & adding First layer \n",
        "model_four = Sequential()\n",
        "#Adding First layer\n",
        "model_four.add(Conv2D(16, kernel_size=(5, 5),\n",
        "                 activation='relu', padding ='same',\n",
        "                 input_shape=input_shape))\n",
        "\n",
        "\n",
        "#Adding second layer\n",
        "model_four.add(Conv2D(32, kernel_size=(5, 5), \n",
        "                 activation='relu', padding ='same',\n",
        "                 input_shape=input_shape))\n",
        "model_four.add(MaxPooling2D(pool_size=(3, 3)))\n",
        "model_four.add(Dropout(0.25))\n",
        "\n",
        "#Adding Third layer \n",
        "model_four.add(Conv2D(64, (5, 5), activation='relu', padding='same'))\n",
        "model_four.add(BatchNormalization())\n",
        "model_four.add(Dropout(0.25))\n",
        "\n",
        "#Adding Fourth layer \n",
        "model_four.add(Conv2D(128, (5, 5), activation='relu', padding='same'))\n",
        "model_four.add(MaxPooling2D(pool_size=(3, 3)))\n",
        "model_four.add(BatchNormalization())\n",
        "model_four.add(Dropout(0.25))\n",
        "\n",
        "#Adding Fifth layer \n",
        "model_four.add(Conv2D(256, (5, 5), activation='relu', padding='same'))\n",
        "model_four.add(MaxPooling2D(pool_size=(3, 3)))\n",
        "model_four.add(BatchNormalization())\n",
        "model_four.add(Dropout(0.25))\n",
        "model_four.add(Flatten())\n",
        "\n",
        "\n",
        "#Dense layer & Output layer\n",
        "model_four.add(Dense(256, activation='relu'))\n",
        "model_four.add(BatchNormalization())\n",
        "model_four.add(Dropout(0.25))\n",
        "model_four.add(Dense(num_classes, activation='softmax'))\n",
        "\n",
        "model_four.compile(loss='categorical_crossentropy',\n",
        "              optimizer='adam',\n",
        "              metrics=['accuracy'])\n",
        "\n",
        "history_four = model_four.fit(x_train, y_train,\n",
        "              batch_size=batch_size,\n",
        "              epochs=epochs,\n",
        "              verbose=1,\n",
        "              validation_data=(x_test, y_test))\n",
        "\n",
        "score_four = model_four.evaluate(x_test, y_test, verbose=0)\n",
        "print('Test loss:', score_four[0])\n",
        "print('Test accuracy:', score_four[1])"
      ],
      "execution_count": 28,
      "outputs": [
        {
          "output_type": "stream",
          "text": [
            "Train on 60000 samples, validate on 10000 samples\n",
            "Epoch 1/15\n",
            "60000/60000 [==============================] - 20s 335us/step - loss: 0.1939 - acc: 0.9398 - val_loss: 0.0452 - val_acc: 0.9863\n",
            "Epoch 2/15\n",
            "60000/60000 [==============================] - 16s 274us/step - loss: 0.0584 - acc: 0.9821 - val_loss: 0.0273 - val_acc: 0.9907\n",
            "Epoch 3/15\n",
            "60000/60000 [==============================] - 17s 276us/step - loss: 0.0450 - acc: 0.9863 - val_loss: 0.0306 - val_acc: 0.9898\n",
            "Epoch 4/15\n",
            "60000/60000 [==============================] - 16s 275us/step - loss: 0.0373 - acc: 0.9885 - val_loss: 0.0213 - val_acc: 0.9930\n",
            "Epoch 5/15\n",
            "60000/60000 [==============================] - 17s 276us/step - loss: 0.0319 - acc: 0.9902 - val_loss: 0.0281 - val_acc: 0.9909\n",
            "Epoch 6/15\n",
            "60000/60000 [==============================] - 16s 274us/step - loss: 0.0291 - acc: 0.9907 - val_loss: 0.0200 - val_acc: 0.9938\n",
            "Epoch 7/15\n",
            "60000/60000 [==============================] - 16s 273us/step - loss: 0.0261 - acc: 0.9919 - val_loss: 0.0235 - val_acc: 0.9920\n",
            "Epoch 8/15\n",
            "60000/60000 [==============================] - 16s 274us/step - loss: 0.0259 - acc: 0.9914 - val_loss: 0.0212 - val_acc: 0.9929\n",
            "Epoch 9/15\n",
            "60000/60000 [==============================] - 16s 275us/step - loss: 0.0229 - acc: 0.9927 - val_loss: 0.0391 - val_acc: 0.9882\n",
            "Epoch 10/15\n",
            "60000/60000 [==============================] - 16s 275us/step - loss: 0.0201 - acc: 0.9935 - val_loss: 0.0227 - val_acc: 0.9930\n",
            "Epoch 11/15\n",
            "60000/60000 [==============================] - 16s 275us/step - loss: 0.0194 - acc: 0.9937 - val_loss: 0.0180 - val_acc: 0.9946\n",
            "Epoch 12/15\n",
            "60000/60000 [==============================] - 17s 276us/step - loss: 0.0167 - acc: 0.9946 - val_loss: 0.0196 - val_acc: 0.9945\n",
            "Epoch 13/15\n",
            "60000/60000 [==============================] - 16s 274us/step - loss: 0.0176 - acc: 0.9944 - val_loss: 0.0195 - val_acc: 0.9938\n",
            "Epoch 14/15\n",
            "60000/60000 [==============================] - 16s 274us/step - loss: 0.0174 - acc: 0.9944 - val_loss: 0.0241 - val_acc: 0.9924\n",
            "Epoch 15/15\n",
            "60000/60000 [==============================] - 16s 274us/step - loss: 0.0169 - acc: 0.9945 - val_loss: 0.0199 - val_acc: 0.9950\n",
            "Test loss: 0.01986426301340398\n",
            "Test accuracy: 0.995\n"
          ],
          "name": "stdout"
        }
      ]
    },
    {
      "cell_type": "code",
      "metadata": {
        "id": "h4Bu_ULN9oHN",
        "colab_type": "code",
        "colab": {
          "base_uri": "https://localhost:8080/",
          "height": 280
        },
        "outputId": "83c478db-3097-414d-d1f3-65cf9d072253"
      },
      "source": [
        "%matplotlib inline\n",
        "fig,ax = plt.subplots(1,1)\n",
        "ax.set_xlabel('epoch') ; ax.set_ylabel('Categorical Crossentropy Loss')\n",
        "# list of epoch numbers\n",
        "x = list(range(1,epochs+1))\n",
        "# print(history.history.keys())\n",
        "# dict_keys(['val_loss', 'val_acc', 'loss', 'acc'])\n",
        "# history = model_drop.fit(X_train, Y_train, batch_size=batch_size, epochs=nb_epoch, verbose=1, validation_data=(X_test, Y_test))\n",
        "# we will get val_loss and val_acc only when you pass the paramter validation_data\n",
        "# val_loss : validation loss\n",
        "# val_acc : validation accuracy\n",
        "# loss : training loss\n",
        "# acc : train accuracy\n",
        "# for each key in histrory.histrory we will have a list of length equal to number of epochs\n",
        "vy = history_four.history['val_loss']\n",
        "ty = history_four.history['loss']\n",
        "plt_dynamic(x, vy, ty, ax)"
      ],
      "execution_count": 29,
      "outputs": [
        {
          "output_type": "display_data",
          "data": {
            "image/png": "[encoded data removed]",
            "text/plain": [
              "<Figure size 432x288 with 1 Axes>"
            ]
          },
          "metadata": {
            "tags": []
          }
        }
      ]
    },
    {
      "cell_type": "code",
      "metadata": {
        "id": "OIK5nj7Jq-OQ",
        "colab_type": "code",
        "colab": {
          "base_uri": "https://localhost:8080/",
          "height": 134
        },
        "outputId": "339ea6ca-a9a3-4c4d-b0c0-755f67fd13a7"
      },
      "source": [
        "# Please write down few lines about what you observed from this assignment.\n",
        "# Please compare all your models using Prettytable library\n",
        "# http://zetcode.com/python/prettytable/\n",
        "from prettytable import PrettyTable\n",
        "#If you get a ModuleNotFoundError error , install prettytable using: pip3 install prettytable\n",
        "x = PrettyTable()\n",
        "x.field_names = [ \"Model\", \"Number of Layers\", \"Kernel size\", \"Train Accuracy\", \"Test Accuracy\"]\n",
        "x.add_row([\"Convolutional Neural Network\", \"2\", \"3x3\", \"0.9975\", \"0.9907\"])\n",
        "x.add_row([\"Convolutional Neural Network\", \"3\", \"4x4\", \"0.9972\", \"0.9951\"])\n",
        "x.add_row([\"Convolutional Neural Network\", \"5\", \"5x5\", \"0.9945\", \"0.9950\"])\n",
        "print(x)"
      ],
      "execution_count": 31,
      "outputs": [
        {
          "output_type": "stream",
          "text": [
            "+------------------------------+------------------+-------------+----------------+---------------+\n",
            "|            Model             | Number of Layers | Kernel size | Train Accuracy | Test Accuracy |\n",
            "+------------------------------+------------------+-------------+----------------+---------------+\n",
            "| Convolutional Neural Network |        2         |     3x3     |     0.9975     |     0.9907    |\n",
            "| Convolutional Neural Network |        3         |     4x4     |     0.9972     |     0.9951    |\n",
            "| Convolutional Neural Network |        5         |     5x5     |     0.9945     |     0.9950    |\n",
            "+------------------------------+------------------+-------------+----------------+---------------+\n"
          ],
          "name": "stdout"
        }
      ]
    },
    {
      "cell_type": "code",
      "metadata": {
        "id": "bA1C5CWtBnvs",
        "colab_type": "code",
        "colab": {}
      },
      "source": [
        ""
      ],
      "execution_count": 0,
      "outputs": []
    }
  ]
}